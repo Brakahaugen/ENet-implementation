{
  "nbformat": 4,
  "nbformat_minor": 0,
  "metadata": {
    "kernelspec": {
      "name": "python3",
      "display_name": "Python 3"
    },
    "language_info": {
      "codemirror_mode": {
        "name": "ipython",
        "version": 3
      },
      "file_extension": ".py",
      "mimetype": "text/x-python",
      "name": "python",
      "nbconvert_exporter": "python",
      "pygments_lexer": "ipython3",
      "version": "3.8.1-final"
    },
    "colab": {
      "name": "Enet FaceSegmentation Inference.ipynb",
      "provenance": [],
      "collapsed_sections": [],
      "toc_visible": true,
      "machine_shape": "hm"
    },
    "accelerator": "GPU"
  },
  "cells": [
    {
      "cell_type": "markdown",
      "metadata": {
        "colab_type": "text",
        "id": "Sz4BIEzsmqnN"
      },
      "source": [
        "## **Data and code setup**"
      ]
    },
    {
      "cell_type": "code",
      "execution_count": 0,
      "metadata": {
        "colab": {},
        "colab_type": "code",
        "id": "pIZUbbQAqJSL"
      },
      "outputs": [],
      "source": [
        "%%capture\n",
        "!pip3 install gdown\n",
        "!pip3 install gpustat"
      ]
    },
    {
      "cell_type": "code",
      "execution_count": 0,
      "metadata": {
        "colab": {},
        "colab_type": "code",
        "id": "dKE3hFiLqkwD"
      },
      "outputs": [],
      "source": [
        "%%capture\n",
        "!git clone https://github.com/gevero/enet_tensorflow.git"
      ]
    },
    {
      "cell_type": "code",
      "execution_count": 0,
      "metadata": {
        "colab": {},
        "colab_type": "code",
        "id": "fF5l82H-mwH8"
      },
      "outputs": [],
      "source": [
        "%%capture\n",
        "!gdown https://drive.google.com/uc?id=1zQ6PCA7k-1d_s_zrZWftJ0OgS23wKIT_ -O EnetWeights.zip\n",
        "!unzip -o EnetWeights.zip"
      ]
    },
    {
      "cell_type": "markdown",
      "metadata": {
        "colab_type": "text",
        "id": "2Ao_SIGICpCZ"
      },
      "source": [
        "## **Notebook Setup**"
      ]
    },
    {
      "cell_type": "code",
      "execution_count": 0,
      "metadata": {
        "colab": {},
        "colab_type": "code",
        "id": "3p_d27ibCuOW"
      },
      "outputs": [],
      "source": [
        "# update to tf 2.0\n",
        "from __future__ import absolute_import, division, print_function, unicode_literals\n",
        "\n",
        "# Install TensorFlow\n",
        "try:\n",
        "  # %tensorflow_version only exists in Colab.\n",
        "  %tensorflow_version 2.1\n",
        "except Exception:\n",
        "  pass\n",
        "\n",
        "# importing standard libraries\n",
        "import tensorflow as tf\n",
        "print(tf.__version__)\n",
        "import matplotlib.pylab as plt\n",
        "import numpy as np\n",
        "import os, os.path\n",
        "from functools import partial\n",
        "from google.colab import files\n",
        "\n",
        "# Importing utils and models\n",
        "import time\n",
        "import sys\n",
        "sys.path.append('./enet_tensorflow')\n",
        "from utils import preprocess_img_label, map_singlehead, map_doublehead, map_label, tf_dataset_generator, get_class_weights\n",
        "from models import EnetModel"
      ]
    },
    {
      "cell_type": "markdown",
      "metadata": {
        "colab_type": "text",
        "id": "Q28wciECoFxB"
      },
      "source": [
        "## **Selenium setup**"
      ]
    },
    {
      "cell_type": "code",
      "execution_count": 0,
      "metadata": {
        "colab": {},
        "colab_type": "code",
        "id": "Hi6LdNCQoK3i"
      },
      "outputs": [],
      "source": [
        "%%capture\n",
        "!apt install chromium-chromedriver\n",
        "!cp /usr/lib/chromium-browser/chromedriver /usr/bin\n",
        "!pip install selenium"
      ]
    },
    {
      "cell_type": "code",
      "execution_count": 0,
      "metadata": {
        "colab": {},
        "colab_type": "code",
        "id": "O9OP1gFwoO2a"
      },
      "outputs": [],
      "source": [
        "from selenium import webdriver\n",
        "\n",
        "# download automatically without dialog box\n",
        "prefs = {'profile.default_content_setting_values.automatic_downloads': 1}\n",
        "\n",
        "# set necessary options for headless working\n",
        "options = webdriver.ChromeOptions()\n",
        "options.add_argument('--headless')\n",
        "options.add_argument('--no-sandbox')\n",
        "options.add_argument('--disable-dev-shm-usage')\n",
        "options.add_experimental_option(\"prefs\", prefs)\n",
        "\n",
        "# create webdriver\n",
        "wd = webdriver.Chrome('chromedriver',options=options)"
      ]
    },
    {
      "cell_type": "markdown",
      "metadata": {
        "colab_type": "text",
        "id": "3zBhPKs-CpC3"
      },
      "source": [
        "## **Load Weights**"
      ]
    },
    {
      "cell_type": "code",
      "execution_count": 7,
      "metadata": {
        "colab": {
          "base_uri": "https://localhost:8080/",
          "height": 34
        },
        "colab_type": "code",
        "id": "QZVBH5whCuOl",
        "outputId": "93e52eeb-6b37-4305-8e5d-873588e7b575"
      },
      "outputs": [
        {
          "data": {
            "text/plain": [
              "<tensorflow.python.training.tracking.util.CheckpointLoadStatus at 0x7f319b43a978>"
            ]
          },
          "execution_count": 7,
          "metadata": {
            "tags": []
          },
          "output_type": "execute_result"
        }
      ],
      "source": [
        "Enet = EnetModel(C=3,MultiObjective=True,l2=1e-3)\n",
        "Enet.load_weights('./Enet512x512.tf')"
      ]
    },
    {
      "cell_type": "markdown",
      "metadata": {
        "colab_type": "text",
        "id": "juTnAVjQeA01"
      },
      "source": [
        "## **Get/refresh image from \"this person does not exist\"**"
      ]
    },
    {
      "cell_type": "code",
      "execution_count": 0,
      "metadata": {
        "colab": {},
        "colab_type": "code",
        "id": "7zuecXGPqMiP"
      },
      "outputs": [],
      "source": [
        "# get or refresh the image\n",
        "wd.get('https://www.thispersondoesnotexist.com')\n",
        "time.sleep(2)\n",
        "\n",
        "# buttons\n",
        "save_button = wd.find_element_by_id('saveButton')\n",
        "another_button = wd.find_element_by_xpath('//*[@title=\"Save this person\"]')\n",
        "time.sleep(2)\n",
        "\n",
        "# click them to get image\n",
        "another_button.click()\n",
        "save_button.click()"
      ]
    },
    {
      "cell_type": "code",
      "execution_count": 0,
      "metadata": {
        "colab": {},
        "colab_type": "code",
        "id": "QnT62GNaGaKG"
      },
      "outputs": [],
      "source": [
        "   # decoding image\n",
        "    img = tf.io.read_file('./person.jpg')\n",
        "    img = tf.image.decode_jpeg(img, channels=3)\n",
        "    img = tf.image.convert_image_dtype(img, tf.float32)\n",
        "    img = tf.image.resize(img,(512,512))\n",
        "    img = tf.reshape(img,[1,512,512,3])"
      ]
    },
    {
      "cell_type": "code",
      "execution_count": 0,
      "metadata": {
        "colab": {},
        "colab_type": "code",
        "id": "-vHoAvya0-S3"
      },
      "outputs": [],
      "source": [
        "def create_mask(pred_mask):\n",
        "  pred_mask = tf.argmax(pred_mask, axis=-1)\n",
        "  pred_mask = pred_mask[..., tf.newaxis]\n",
        "\n",
        "  return pred_mask[0]\n",
        "\n",
        "img_enc_probs, img_dec_probs = Enet(img[0:1,:,:,:])\n",
        "img_dec_out = create_mask(img_dec_probs)\n",
        "\n",
        "# image\n",
        "fig = plt.figure(figsize=(20,10))\n",
        "plt.subplot(1,3,1)\n",
        "plt.xticks([])\n",
        "plt.yticks([])\n",
        "plt.imshow(img.numpy()[0,:,:,:])\n",
        "\n",
        "# mask\n",
        "plt.subplot(1,3,2)\n",
        "plt.xticks([])\n",
        "plt.yticks([])\n",
        "plt.imshow(img_dec_out[:,:,0],cmap='viridis')\n",
        "\n",
        "# image + mask\n",
        "plt.subplot(1,3,3)\n",
        "plt.xticks([])\n",
        "plt.yticks([])\n",
        "plt.imshow(img.numpy()[0,:,:,:])\n",
        "plt.imshow(img_dec_out[:,:,0], alpha=0.5,cmap='viridis')\n",
        "\n",
        "plt.tight_layout()\n",
        "fig.subplots_adjust(wspace=0.0, hspace=0.0)"
      ]
    }
  ]
}